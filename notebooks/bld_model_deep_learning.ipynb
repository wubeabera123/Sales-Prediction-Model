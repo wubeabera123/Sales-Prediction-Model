{
 "cells": [
  {
   "cell_type": "markdown",
   "metadata": {},
   "source": [
    "# Import the necessary libraries"
   ]
  },
  {
   "cell_type": "code",
   "execution_count": 11,
   "metadata": {},
   "outputs": [],
   "source": [
    "import pandas as pd\n",
    "import sys\n",
    "import os\n",
    "import matplotlib.pyplot as plt\n",
    "import seaborn as sns\n",
    "import logging\n",
    "import numpy as np  # Make sure numpy is imported\n",
    "import tensorflow as tf\n",
    "\n",
    "# Configure logging\n",
    "logging.basicConfig(filename='../logs/predict_store_sales_with_deep_learning.log',\n",
    "                    level=logging.INFO,\n",
    "                    format='%(asctime)s:%(levelname)s:%(message)s')\n",
    "  \n",
    "sys.path.append(os.path.abspath(os.path.join(os.getcwd(), '../scripts')))\n",
    "from load_data import Load_Data\n",
    "from sklearn.preprocessing import MinMaxScaler\n",
    "from tensorflow.keras.models import Sequential\n",
    "from sklearn.metrics import mean_squared_error\n",
    "from tensorflow.keras.layers import Dense, LSTM\n",
    "from statsmodels.tsa.stattools import adfuller\n"
   ]
  },
  {
   "cell_type": "markdown",
   "metadata": {},
   "source": [
    "# Load data set"
   ]
  },
  {
   "cell_type": "code",
   "execution_count": 12,
   "metadata": {},
   "outputs": [
    {
     "name": "stdout",
     "output_type": "stream",
     "text": [
      "Data successfully loaded from ../data/combined_cleaned_data.csv\n"
     ]
    }
   ],
   "source": [
    "logging.info(\"Load cleaned store data\")\n",
    "\n",
    "# Create an instance of CSVReader\n",
    "df = Load_Data('../data/combined_cleaned_data.csv')\n",
    "\n",
    "# Load the data\n",
    "df.load_data()\n",
    "\n",
    "# Get the loaded data\n",
    "df = df.get_data()\n"
   ]
  },
  {
   "cell_type": "code",
   "execution_count": 13,
   "metadata": {},
   "outputs": [
    {
     "name": "stdout",
     "output_type": "stream",
     "text": [
      "Store                          int64\n",
      "CompetitionDistance          float64\n",
      "CompetitionOpenSinceMonth    float64\n",
      "CompetitionOpenSinceYear     float64\n",
      "Promo2                         int64\n",
      "Promo2SinceWeek              float64\n",
      "Promo2SinceYear              float64\n",
      "PromoInterval                 object\n",
      "DayOfWeek                      int64\n",
      "Date                          object\n",
      "Sales                        float64\n",
      "Customers                      int64\n",
      "Open                           int64\n",
      "Promo                          int64\n",
      "SchoolHoliday                  int64\n",
      "StoreType_b                     bool\n",
      "StoreType_c                     bool\n",
      "StoreType_d                     bool\n",
      "Assortment_b                    bool\n",
      "Assortment_c                    bool\n",
      "StateHoliday_a                  bool\n",
      "StateHoliday_b                  bool\n",
      "StateHoliday_c                  bool\n",
      "IsWeekend                      int64\n",
      "MonthDay                       int64\n",
      "IsBeginningOfMonth             int64\n",
      "IsMidMonth                     int64\n",
      "IsEndOfMonth                   int64\n",
      "dtype: object\n"
     ]
    }
   ],
   "source": [
    "print(df.dtypes)\n"
   ]
  },
  {
   "cell_type": "markdown",
   "metadata": {},
   "source": [
    "# LSTM Implementation"
   ]
  },
  {
   "cell_type": "code",
   "execution_count": 14,
   "metadata": {},
   "outputs": [
    {
     "name": "stderr",
     "output_type": "stream",
     "text": [
      "c:\\Users\\wubeshet.abera\\Projects\\Ten-Academy\\Sales-Prediction-Model\\venv\\Lib\\site-packages\\keras\\src\\layers\\rnn\\rnn.py:204: UserWarning: Do not pass an `input_shape`/`input_dim` argument to a layer. When using Sequential models, prefer using an `Input(shape)` object as the first layer in the model instead.\n",
      "  super().__init__(**kwargs)\n"
     ]
    },
    {
     "name": "stdout",
     "output_type": "stream",
     "text": [
      "Epoch 1/20\n",
      "\u001b[1m2543/2543\u001b[0m \u001b[32m━━━━━━━━━━━━━━━━━━━━\u001b[0m\u001b[37m\u001b[0m \u001b[1m18s\u001b[0m 5ms/step - loss: 0.0650\n",
      "Epoch 2/20\n",
      "\u001b[1m2543/2543\u001b[0m \u001b[32m━━━━━━━━━━━━━━━━━━━━\u001b[0m\u001b[37m\u001b[0m \u001b[1m13s\u001b[0m 5ms/step - loss: 0.0543\n",
      "Epoch 3/20\n",
      "\u001b[1m2543/2543\u001b[0m \u001b[32m━━━━━━━━━━━━━━━━━━━━\u001b[0m\u001b[37m\u001b[0m \u001b[1m13s\u001b[0m 5ms/step - loss: 0.0529\n",
      "Epoch 4/20\n",
      "\u001b[1m2543/2543\u001b[0m \u001b[32m━━━━━━━━━━━━━━━━━━━━\u001b[0m\u001b[37m\u001b[0m \u001b[1m13s\u001b[0m 5ms/step - loss: 0.0535\n",
      "Epoch 5/20\n",
      "\u001b[1m2543/2543\u001b[0m \u001b[32m━━━━━━━━━━━━━━━━━━━━\u001b[0m\u001b[37m\u001b[0m \u001b[1m15s\u001b[0m 6ms/step - loss: 0.0528\n",
      "Epoch 6/20\n",
      "\u001b[1m2543/2543\u001b[0m \u001b[32m━━━━━━━━━━━━━━━━━━━━\u001b[0m\u001b[37m\u001b[0m \u001b[1m14s\u001b[0m 5ms/step - loss: 0.0540\n",
      "Epoch 7/20\n",
      "\u001b[1m2543/2543\u001b[0m \u001b[32m━━━━━━━━━━━━━━━━━━━━\u001b[0m\u001b[37m\u001b[0m \u001b[1m12s\u001b[0m 5ms/step - loss: 0.0535\n",
      "Epoch 8/20\n",
      "\u001b[1m2543/2543\u001b[0m \u001b[32m━━━━━━━━━━━━━━━━━━━━\u001b[0m\u001b[37m\u001b[0m \u001b[1m12s\u001b[0m 5ms/step - loss: 0.0529\n",
      "Epoch 9/20\n",
      "\u001b[1m2543/2543\u001b[0m \u001b[32m━━━━━━━━━━━━━━━━━━━━\u001b[0m\u001b[37m\u001b[0m \u001b[1m13s\u001b[0m 5ms/step - loss: 0.0535\n",
      "Epoch 10/20\n",
      "\u001b[1m2543/2543\u001b[0m \u001b[32m━━━━━━━━━━━━━━━━━━━━\u001b[0m\u001b[37m\u001b[0m \u001b[1m13s\u001b[0m 5ms/step - loss: 0.0537\n",
      "Epoch 11/20\n",
      "\u001b[1m2543/2543\u001b[0m \u001b[32m━━━━━━━━━━━━━━━━━━━━\u001b[0m\u001b[37m\u001b[0m \u001b[1m13s\u001b[0m 5ms/step - loss: 0.0528\n",
      "Epoch 12/20\n",
      "\u001b[1m2543/2543\u001b[0m \u001b[32m━━━━━━━━━━━━━━━━━━━━\u001b[0m\u001b[37m\u001b[0m \u001b[1m13s\u001b[0m 5ms/step - loss: 0.0532\n",
      "Epoch 13/20\n",
      "\u001b[1m2543/2543\u001b[0m \u001b[32m━━━━━━━━━━━━━━━━━━━━\u001b[0m\u001b[37m\u001b[0m \u001b[1m13s\u001b[0m 5ms/step - loss: 0.0541\n",
      "Epoch 14/20\n",
      "\u001b[1m2543/2543\u001b[0m \u001b[32m━━━━━━━━━━━━━━━━━━━━\u001b[0m\u001b[37m\u001b[0m \u001b[1m13s\u001b[0m 5ms/step - loss: 0.0541\n",
      "Epoch 15/20\n",
      "\u001b[1m2543/2543\u001b[0m \u001b[32m━━━━━━━━━━━━━━━━━━━━\u001b[0m\u001b[37m\u001b[0m \u001b[1m13s\u001b[0m 5ms/step - loss: 0.0542\n",
      "Epoch 16/20\n",
      "\u001b[1m2543/2543\u001b[0m \u001b[32m━━━━━━━━━━━━━━━━━━━━\u001b[0m\u001b[37m\u001b[0m \u001b[1m13s\u001b[0m 5ms/step - loss: 0.0538\n",
      "Epoch 17/20\n",
      "\u001b[1m2543/2543\u001b[0m \u001b[32m━━━━━━━━━━━━━━━━━━━━\u001b[0m\u001b[37m\u001b[0m \u001b[1m13s\u001b[0m 5ms/step - loss: 0.0544\n",
      "Epoch 18/20\n",
      "\u001b[1m2543/2543\u001b[0m \u001b[32m━━━━━━━━━━━━━━━━━━━━\u001b[0m\u001b[37m\u001b[0m \u001b[1m14s\u001b[0m 6ms/step - loss: 0.0534\n",
      "Epoch 19/20\n",
      "\u001b[1m2543/2543\u001b[0m \u001b[32m━━━━━━━━━━━━━━━━━━━━\u001b[0m\u001b[37m\u001b[0m \u001b[1m13s\u001b[0m 5ms/step - loss: 0.0532\n",
      "Epoch 20/20\n",
      "\u001b[1m2543/2543\u001b[0m \u001b[32m━━━━━━━━━━━━━━━━━━━━\u001b[0m\u001b[37m\u001b[0m \u001b[1m13s\u001b[0m 5ms/step - loss: 0.0531\n",
      "\u001b[1m636/636\u001b[0m \u001b[32m━━━━━━━━━━━━━━━━━━━━\u001b[0m\u001b[37m\u001b[0m \u001b[1m2s\u001b[0m 3ms/step\n"
     ]
    },
    {
     "data": {
      "image/png": "[encoded data removed]",
      "text/plain": [
       "<Figure size 1000x600 with 1 Axes>"
      ]
     },
     "metadata": {},
     "output_type": "display_data"
    }
   ],
   "source": [
    "# Sample the data (downsample to 10% for memory efficiency)\n",
    "logging.info(\"Sampling the data to 10% for memory efficiency.\")\n",
    "df = df.sample(frac=0.1, random_state=42)  # Use 10% of the data\n",
    "\n",
    "# Preprocess the data\n",
    "logging.info(\"Preprocessing the data.\")\n",
    "df['Date'] = pd.to_datetime(df['Date'])\n",
    "df.set_index('Date', inplace=True)\n",
    "df = df[['Sales']].astype(np.float32)  # Convert to float32 for memory efficiency\n",
    "\n",
    "# Check if the time series data is stationary using ADF test\n",
    "logging.info(\"Performing ADF test to check stationarity.\")\n",
    "result = adfuller(df['Sales'])\n",
    "logging.info(f'ADF Statistic: {result[0]}')\n",
    "logging.info(f'p-value: {result[1]}')\n",
    "\n",
    "# If p-value > 0.05, the series is not stationary; apply differencing\n",
    "if result[1] > 0.05:\n",
    "    logging.info(\"Data is not stationary. Applying differencing.\")\n",
    "    df['Sales'] = df['Sales'].diff().dropna()\n",
    "else:\n",
    "    logging.info(\"Data is stationary. No differencing required.\")\n",
    "\n",
    "# Transform the time series data into supervised learning format (sliding window)\n",
    "logging.info(\"Transforming the time series data into supervised learning format.\")\n",
    "def create_dataset(data, time_step=1):\n",
    "    X, y = [], []\n",
    "    for i in range(len(data)-time_step-1):\n",
    "        X.append(data[i:(i + time_step), 0])\n",
    "        y.append(data[i + time_step, 0])\n",
    "    return np.array(X), np.array(y)\n",
    "\n",
    "# Scale the data between (-1, 1)\n",
    "logging.info(\"Scaling the data between (-1, 1).\")\n",
    "scaler = MinMaxScaler(feature_range=(-1, 1))\n",
    "data_scaled = scaler.fit_transform(df['Sales'].values.reshape(-1, 1))\n",
    "\n",
    "# Create sliding window data with time_step = 5\n",
    "logging.info(\"Creating sliding window data with time_step=5.\")\n",
    "time_step = 5\n",
    "X, y = create_dataset(data_scaled, time_step)\n",
    "\n",
    "# Reshape input to be [samples, time steps, features] for LSTM input\n",
    "X = X.reshape(X.shape[0], X.shape[1], 1)\n",
    "\n",
    "# Split the data into training and testing sets\n",
    "logging.info(\"Splitting the data into training and testing sets.\")\n",
    "split = int(len(X) * 0.8)\n",
    "X_train, X_test = X[:split], X[split:]\n",
    "y_train, y_test = y[:split], y[split:]\n",
    "\n",
    "# Build the LSTM model\n",
    "logging.info(\"Building the LSTM model.\")\n",
    "model = Sequential()\n",
    "model.add(LSTM(50, return_sequences=True, input_shape=(time_step, 1)))\n",
    "model.add(LSTM(50))\n",
    "model.add(Dense(1))\n",
    "\n",
    "# Compile the model\n",
    "logging.info(\"Compiling the model.\")\n",
    "model.compile(loss='mean_squared_error', optimizer='adam')\n",
    "\n",
    "# Train the model\n",
    "logging.info(\"Training the model.\")\n",
    "model.fit(X_train, y_train, epochs=20, batch_size=32, verbose=1)\n",
    "\n",
    "# Predict on the test set\n",
    "logging.info(\"Making predictions on the test set.\")\n",
    "y_pred = model.predict(X_test)\n",
    "\n",
    "# Inverse transform to get the actual sales values\n",
    "logging.info(\"Inverse transforming to get actual sales values.\")\n",
    "y_test_inv = scaler.inverse_transform(y_test.reshape(-1, 1))\n",
    "y_pred_inv = scaler.inverse_transform(y_pred)\n",
    "\n",
    "# Calculate RMSE\n",
    "logging.info(\"Calculating RMSE.\")\n",
    "rmse = np.sqrt(mean_squared_error(y_test_inv, y_pred_inv))\n",
    "logging.info(f'Test RMSE: {rmse}')\n",
    "\n",
    "# Plot the results\n",
    "logging.info(\"Plotting the results.\")\n",
    "plt.figure(figsize=(10,6))\n",
    "plt.plot(y_test_inv, label='Actual Sales')\n",
    "plt.plot(y_pred_inv, label='Predicted Sales')\n",
    "plt.title('Actual vs Predicted Sales')\n",
    "plt.xlabel('Time Steps')\n",
    "plt.ylabel('Sales')\n",
    "plt.legend()\n",
    "plt.show()\n",
    "\n",
    "logging.info(\"Process complete.\")"
   ]
  },
  {
   "cell_type": "markdown",
   "metadata": {},
   "source": [
    "# Serialize Deep learning model"
   ]
  },
  {
   "cell_type": "code",
   "execution_count": 17,
   "metadata": {},
   "outputs": [
    {
     "name": "stdout",
     "output_type": "stream",
     "text": [
      "Model architecture saved as ../saved_models/model_architecture-23-09-2024-17-28-04-042.pkl\n",
      "Model weights saved as ../saved_models/model_weights-23-09-2024-17-28-04-042.pkl\n"
     ]
    }
   ],
   "source": [
    "import pickle\n",
    "import datetime\n",
    "import os\n",
    "\n",
    "# Generate timestamp in the format dd-mm-yyyy-hh-mm-ss-ms\n",
    "timestamp = datetime.datetime.now().strftime(\"%d-%m-%Y-%H-%M-%S-%f\")[:-3]\n",
    "\n",
    "# Define the folder where you want to save the models\n",
    "save_folder = '../saved_models'  # Adjust the path as needed\n",
    "\n",
    "# Ensure the folder exists\n",
    "if not os.path.exists(save_folder):\n",
    "    os.makedirs(save_folder)\n",
    "\n",
    "# Serialize model architecture to JSON\n",
    "model_json = model.to_json()\n",
    "\n",
    "# Serialize model weights\n",
    "weights_filename = f\"{save_folder}/model_weights-{timestamp}.pkl\"\n",
    "with open(weights_filename, 'wb') as file:\n",
    "    pickle.dump(model.get_weights(), file)\n",
    "\n",
    "# Serialize model architecture to pickle\n",
    "architecture_filename = f\"{save_folder}/model_architecture-{timestamp}.pkl\"\n",
    "with open(architecture_filename, 'wb') as file:\n",
    "    pickle.dump(model_json, file)\n",
    "\n",
    "# Print confirmation\n",
    "print(f\"Model architecture saved as {architecture_filename}\")\n",
    "print(f\"Model weights saved as {weights_filename}\")\n"
   ]
  }
 ],
 "metadata": {
  "kernelspec": {
   "display_name": "venv",
   "language": "python",
   "name": "python3"
  },
  "language_info": {
   "codemirror_mode": {
    "name": "ipython",
    "version": 3
   },
   "file_extension": ".py",
   "mimetype": "text/x-python",
   "name": "python",
   "nbconvert_exporter": "python",
   "pygments_lexer": "ipython3",
   "version": "3.12.3"
  }
 },
 "nbformat": 4,
 "nbformat_minor": 2
}
